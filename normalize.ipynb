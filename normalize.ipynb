{
 "cells": [
  {
   "cell_type": "code",
   "execution_count": 50,
   "metadata": {},
   "outputs": [],
   "source": [
    "import pandas as pd"
   ]
  },
  {
   "cell_type": "code",
   "execution_count": 51,
   "metadata": {},
   "outputs": [],
   "source": [
    "rad = pd.read_csv('Road Accident Data.csv', delimiter=',')\n",
    "wid = pd.read_csv('World Important Dates.csv', delimiter=',')"
   ]
  },
  {
   "cell_type": "code",
   "execution_count": 52,
   "metadata": {},
   "outputs": [],
   "source": [
    "# Очистка колонки Year от букв\n",
    "wid['Year'] = wid['Year'].str.extract('(\\d+)').astype(float)"
   ]
  },
  {
   "cell_type": "code",
   "execution_count": 54,
   "metadata": {},
   "outputs": [],
   "source": [
    "# Нормализация\n",
    "wid['Date'] = wid['Date'].replace('Unknown', None)\n",
    "wid['Month'] = wid['Month'].replace('Unknown', None)"
   ]
  },
  {
   "cell_type": "code",
   "execution_count": 55,
   "metadata": {},
   "outputs": [],
   "source": [
    "# Замена null значений в колонке \"Impact\"\n",
    "wid['Impact'] = wid['Impact'].fillna('Unknown')"
   ]
  },
  {
   "cell_type": "code",
   "execution_count": 63,
   "metadata": {},
   "outputs": [],
   "source": [
    "# Normalizing the dataset\n",
    "rad['Accident Date'] = pd.to_datetime(rad['Accident Date'])"
   ]
  },
  {
   "cell_type": "code",
   "execution_count": 65,
   "metadata": {},
   "outputs": [],
   "source": [
    "rad['Latitude'] = rad['Latitude'].astype(int)"
   ]
  },
  {
   "cell_type": "markdown",
   "metadata": {},
   "source": [
    "дальше hdfs (бога там нет)"
   ]
  },
  {
   "cell_type": "code",
   "execution_count": 68,
   "metadata": {},
   "outputs": [],
   "source": [
    "import pyarrow as pa\n",
    "import pyarrow.parquet as pq"
   ]
  },
  {
   "cell_type": "code",
   "execution_count": 69,
   "metadata": {},
   "outputs": [],
   "source": [
    "rad.to_parquet('road_accident_data.parquet.gzip',compression='gzip')"
   ]
  },
  {
   "cell_type": "code",
   "execution_count": 70,
   "metadata": {},
   "outputs": [
    {
     "name": "stdout",
     "output_type": "stream",
     "text": [
      "<class 'pandas.core.frame.DataFrame'>\n",
      "RangeIndex: 307973 entries, 0 to 307972\n",
      "Data columns (total 21 columns):\n",
      " #   Column                      Non-Null Count   Dtype         \n",
      "---  ------                      --------------   -----         \n",
      " 0   Accident_Index              307973 non-null  object        \n",
      " 1   Accident Date               307973 non-null  datetime64[ns]\n",
      " 2   Day_of_Week                 307973 non-null  category      \n",
      " 3   Junction_Control            307973 non-null  object        \n",
      " 4   Junction_Detail             307973 non-null  object        \n",
      " 5   Accident_Severity           307924 non-null  category      \n",
      " 6   Latitude                    307973 non-null  int32         \n",
      " 7   Light_Conditions            287379 non-null  category      \n",
      " 8   Local_Authority_(District)  307973 non-null  category      \n",
      " 9   Carriageway_Hazards         307970 non-null  category      \n",
      " 10  Longitude                   307973 non-null  float64       \n",
      " 11  Number_of_Casualties        307973 non-null  int64         \n",
      " 12  Number_of_Vehicles          307973 non-null  int64         \n",
      " 13  Police_Force                307973 non-null  category      \n",
      " 14  Road_Surface_Conditions     307656 non-null  category      \n",
      " 15  Road_Type                   306439 non-null  category      \n",
      " 16  Speed_limit                 307973 non-null  int64         \n",
      " 17  Time                        307956 non-null  object        \n",
      " 18  Urban_or_Rural_Area         307973 non-null  category      \n",
      " 19  Weather_Conditions          293114 non-null  category      \n",
      " 20  Vehicle_Type                307973 non-null  category      \n",
      "dtypes: category(11), datetime64[ns](1), float64(1), int32(1), int64(3), object(4)\n",
      "memory usage: 25.9+ MB\n"
     ]
    }
   ],
   "source": [
    "rag_pr = pd.read_parquet('road_accident_data.parquet.gzip')\n",
    "rag_pr.info()"
   ]
  },
  {
   "cell_type": "code",
   "execution_count": 71,
   "metadata": {},
   "outputs": [],
   "source": [
    "wid.to_parquet('world_important_dates.parquet.gzip',compression='gzip')"
   ]
  },
  {
   "cell_type": "code",
   "execution_count": 72,
   "metadata": {},
   "outputs": [
    {
     "name": "stdout",
     "output_type": "stream",
     "text": [
      "<class 'pandas.core.frame.DataFrame'>\n",
      "RangeIndex: 1096 entries, 0 to 1095\n",
      "Data columns (total 12 columns):\n",
      " #   Column                              Non-Null Count  Dtype  \n",
      "---  ------                              --------------  -----  \n",
      " 0   Sl. No                              1096 non-null   int64  \n",
      " 1   Name of Incident                    1096 non-null   object \n",
      " 2   Date                                669 non-null    object \n",
      " 3   Month                               701 non-null    object \n",
      " 4   Year                                1096 non-null   float64\n",
      " 5   Country                             1096 non-null   object \n",
      " 6   Type of Event                       1096 non-null   object \n",
      " 7   Place Name                          1096 non-null   object \n",
      " 8   Impact                              1096 non-null   object \n",
      " 9   Affected Population                 1096 non-null   object \n",
      " 10  Important Person/Group Responsible  1096 non-null   object \n",
      " 11  Outcome                             1096 non-null   object \n",
      "dtypes: float64(1), int64(1), object(10)\n",
      "memory usage: 102.9+ KB\n"
     ]
    }
   ],
   "source": [
    "wid_pr = pd.read_parquet('world_important_dates.parquet.gzip')\n",
    "wid_pr.info()"
   ]
  },
  {
   "cell_type": "code",
   "execution_count": 75,
   "metadata": {},
   "outputs": [],
   "source": [
    "from hdfs import InsecureClient"
   ]
  },
  {
   "cell_type": "code",
   "execution_count": 83,
   "metadata": {},
   "outputs": [],
   "source": [
    "client = InsecureClient('http://127.0.0.1:9870', user='root')"
   ]
  },
  {
   "cell_type": "code",
   "execution_count": 84,
   "metadata": {},
   "outputs": [
    {
     "data": {
      "text/plain": [
       "{'directoryCount': 8,\n",
       " 'fileCount': 8,\n",
       " 'length': 106,\n",
       " 'quota': 9223372036854775807,\n",
       " 'spaceConsumed': 318,\n",
       " 'spaceQuota': -1,\n",
       " 'typeQuota': {}}"
      ]
     },
     "execution_count": 84,
     "metadata": {},
     "output_type": "execute_result"
    }
   ],
   "source": [
    "client.content('/')"
   ]
  },
  {
   "cell_type": "code",
   "execution_count": null,
   "metadata": {},
   "outputs": [],
   "source": [
    "client.status('/butin.ius')"
   ]
  },
  {
   "cell_type": "code",
   "execution_count": 36,
   "metadata": {},
   "outputs": [],
   "source": [
    "client.makedirs('/butin.ius')"
   ]
  },
  {
   "cell_type": "code",
   "execution_count": 37,
   "metadata": {},
   "outputs": [
    {
     "data": {
      "text/plain": [
       "True"
      ]
     },
     "execution_count": 37,
     "metadata": {},
     "output_type": "execute_result"
    }
   ],
   "source": [
    "client.delete('/butin.ius', recursive=True)"
   ]
  },
  {
   "cell_type": "code",
   "execution_count": 38,
   "metadata": {},
   "outputs": [
    {
     "data": {
      "text/plain": [
       "['rmstate']"
      ]
     },
     "execution_count": 38,
     "metadata": {},
     "output_type": "execute_result"
    }
   ],
   "source": [
    "client.list('/')"
   ]
  },
  {
   "cell_type": "code",
   "execution_count": 40,
   "metadata": {},
   "outputs": [],
   "source": [
    "hdfs_path = '/butin.ius'\n",
    "local_dir = 'C:\\progs\\KT_3'"
   ]
  },
  {
   "cell_type": "code",
   "execution_count": null,
   "metadata": {},
   "outputs": [],
   "source": [
    "# Writing part of a file.\n",
    "with open(local_dir + '\\\\road_accident_data.parquet.gzip') as reader, client.write(hdfs_path) as writer:\n",
    "  for line in reader:\n",
    "    if line.startswith('-'):\n",
    "      writer.write(line)"
   ]
  },
  {
   "cell_type": "code",
   "execution_count": null,
   "metadata": {},
   "outputs": [],
   "source": [
    "client.download(hdfs_path + '/road_accident_data.parquet.gzip', local_dir + '\\data', overwrite=True, n_threads=1)"
   ]
  }
 ],
 "metadata": {
  "kernelspec": {
   "display_name": ".venv",
   "language": "python",
   "name": "python3"
  },
  "language_info": {
   "codemirror_mode": {
    "name": "ipython",
    "version": 3
   },
   "file_extension": ".py",
   "mimetype": "text/x-python",
   "name": "python",
   "nbconvert_exporter": "python",
   "pygments_lexer": "ipython3",
   "version": "3.10.11"
  }
 },
 "nbformat": 4,
 "nbformat_minor": 2
}
